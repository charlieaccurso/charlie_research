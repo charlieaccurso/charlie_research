{
 "cells": [
  {
   "cell_type": "code",
   "execution_count": null,
   "id": "65d23504",
   "metadata": {},
   "outputs": [],
   "source": [
    "# file containing the conversation data\n",
    "file_path= 'conv_sample'"
   ]
  },
  {
   "cell_type": "code",
   "execution_count": null,
   "id": "de5a2e48",
   "metadata": {},
   "outputs": [],
   "source": [
    "# initialize lists to store data for DataFrame creation.\n",
    "post_lists= []\n",
    "num_posts_list= []\n",
    "\n",
    "# open the file in read mode ('r') using a 'with' statement.\n",
    "with open(file_path, 'r') as file:\n",
    "    \n",
    "    # iterate through each line in the file.\n",
    "    for line in file:\n",
    "        # parse the JSON string into a Python dictionary.\n",
    "        data= json.loads(line)\n",
    "        \n",
    "        # extract the \"post_list\" field and iterate through its items.\n",
    "        post_list= data.get(\"post_list\", [])\n",
    "        \n",
    "        # collect \"text\" fields and their counts for each \"post_list\".\n",
    "        text_fields= [post.get(\"text\", \"\") for post in post_list]\n",
    "        num_posts= len(text_fields)\n",
    "        \n",
    "        # append data to the lists.\n",
    "        post_lists.append(text_fields)\n",
    "        num_posts_list.append(num_posts)\n",
    "\n",
    "# create a Pandas DataFrame.\n",
    "df= pd.DataFrame({'post_list': post_lists, 'num_posts': num_posts_list})\n",
    "\n",
    "# print the DataFrame.\n",
    "print(df)"
   ]
  },
  {
   "cell_type": "code",
   "execution_count": null,
   "id": "97f9b18e",
   "metadata": {},
   "outputs": [],
   "source": [
    "# calculate the mean of the 'num_posts' column\n",
    "mean_num_posts= df['num_posts'].mean()\n",
    "\n",
    "# print the mean\n",
    "print(f\"Mean of num_posts (Mean number of texts per conversation): {mean_num_posts}\")"
   ]
  },
  {
   "cell_type": "code",
   "execution_count": null,
   "id": "d22c8d4d",
   "metadata": {},
   "outputs": [],
   "source": [
    "# see the first 100 conversations\n",
    "df[\"post_list\"][:100]"
   ]
  },
  {
   "cell_type": "code",
   "execution_count": null,
   "id": "252cfa6b",
   "metadata": {},
   "outputs": [],
   "source": [
    "df= pd.DataFrame(df)\n",
    "\n",
    "# Create a new column 'conversation_id' with unique IDs for each conversation\n",
    "df['conversation_id'] = range(len(df))\n",
    "\n",
    "# Explode the 'post_list' column into separate rows\n",
    "df = df.explode('post_list', ignore_index=True)\n",
    "\n",
    "# Rearrange the columns to have 'conversation_id' come first\n",
    "df = df[['conversation_id', 'post_list']]\n",
    "\n",
    "# Rename the 'post_list' column to 'post'\n",
    "df = df.rename(columns={'post_list': 'post'})\n",
    "\n",
    "df['post_working_language'] = np.nan\n",
    "df['post_embedded_language'] = np.nan\n",
    "\n",
    "# Display the final DataFrame\n",
    "print(df)\n",
    "\n",
    "# # Specify the path where you want to save the CSV file\n",
    "# file_path = 'conv_sample_posts.csv'\n",
    "\n",
    "# # Save the DataFrame to a CSV file\n",
    "# df.to_csv(file_path, index=False)  # Set index=False to exclude the index column\n",
    "\n",
    "# print(f'DataFrame has been saved to {file_path}')"
   ]
  }
 ],
 "metadata": {
  "kernelspec": {
   "display_name": "Python 3 (ipykernel)",
   "language": "python",
   "name": "python3"
  },
  "language_info": {
   "codemirror_mode": {
    "name": "ipython",
    "version": 3
   },
   "file_extension": ".py",
   "mimetype": "text/x-python",
   "name": "python",
   "nbconvert_exporter": "python",
   "pygments_lexer": "ipython3",
   "version": "3.11.2"
  }
 },
 "nbformat": 4,
 "nbformat_minor": 5
}
