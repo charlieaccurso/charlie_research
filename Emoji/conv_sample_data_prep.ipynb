{
 "cells": [
  {
   "cell_type": "code",
   "execution_count": 1,
   "id": "7d07c37b",
   "metadata": {},
   "outputs": [],
   "source": [
    "import json\n",
    "import numpy as np\n",
    "import pandas as pd"
   ]
  },
  {
   "cell_type": "code",
   "execution_count": 2,
   "id": "73b4f3d9",
   "metadata": {},
   "outputs": [],
   "source": [
    "# file containing the conversation data\n",
    "file_path= 'conv_sample'"
   ]
  },
  {
   "cell_type": "code",
   "execution_count": 3,
   "id": "d19cb361",
   "metadata": {},
   "outputs": [
    {
     "name": "stdout",
     "output_type": "stream",
     "text": [
      "                                               post_list  num_posts\n",
      "0      [Update dependency @testing-library/user-event...          1\n",
      "1      [I would like to work on this issue, go for it...          5\n",
      "2      [Expand support for indirections. 1) Implement...          4\n",
      "3      [\"Can't Rename, no element found\" on anything ...         20\n",
      "4      [<!-- CLA-CHECK:130 -->\\n&#10060; Author of th...          1\n",
      "...                                                  ...        ...\n",
      "19995  [Bump mongoose from 5.9.25 to 5.13.15. Bumps [...          1\n",
      "19996  [Bump puppeteer from 19.9.0 to 19.10.0. Bumps ...          1\n",
      "19997  [3Dモデル用シェーダー作成. 3Dモデルで使用するシェーダーを作成する。\\r\\n\\r\\n要...          1\n",
      "19998  [### <span aria-hidden=\"true\">👷</span> Deploy ...          1\n",
      "19999                               [Feature/with front]          1\n",
      "\n",
      "[20000 rows x 2 columns]\n"
     ]
    }
   ],
   "source": [
    "# initialize lists to store data for DataFrame creation.\n",
    "post_lists= []\n",
    "num_posts_list= []\n",
    "\n",
    "# open the file in read mode ('r') using a 'with' statement.\n",
    "with open(file_path, 'r') as file:\n",
    "    \n",
    "    # iterate through each line in the file.\n",
    "    for line in file:\n",
    "        # parse the JSON string into a Python dictionary.\n",
    "        data= json.loads(line)\n",
    "        \n",
    "        # extract the \"post_list\" field and iterate through its items.\n",
    "        post_list= data.get(\"post_list\", [])\n",
    "        \n",
    "        # collect \"text\" fields and their counts for each \"post_list\".\n",
    "        text_fields= [post.get(\"text\", \"\") for post in post_list]\n",
    "        num_posts= len(text_fields)\n",
    "        \n",
    "        # append data to the lists.\n",
    "        post_lists.append(text_fields)\n",
    "        num_posts_list.append(num_posts)\n",
    "\n",
    "# create a Pandas DataFrame.\n",
    "df= pd.DataFrame({'post_list': post_lists, 'num_posts': num_posts_list})\n",
    "\n",
    "# print the DataFrame.\n",
    "print(df)"
   ]
  },
  {
   "cell_type": "code",
   "execution_count": 4,
   "id": "cc7904b2",
   "metadata": {},
   "outputs": [
    {
     "name": "stdout",
     "output_type": "stream",
     "text": [
      "Mean of num_posts (Mean number of texts per conversation): 1.49645\n"
     ]
    }
   ],
   "source": [
    "# calculate the mean of the 'num_posts' column\n",
    "mean_num_posts= df['num_posts'].mean()\n",
    "\n",
    "# print the mean\n",
    "print(f\"Mean of num_posts (Mean number of texts per conversation): {mean_num_posts}\")"
   ]
  },
  {
   "cell_type": "code",
   "execution_count": 5,
   "id": "4d1c28c7",
   "metadata": {},
   "outputs": [
    {
     "data": {
      "text/plain": [
       "0     [Update dependency @testing-library/user-event...\n",
       "1     [I would like to work on this issue, go for it...\n",
       "2     [Expand support for indirections. 1) Implement...\n",
       "3     [\"Can't Rename, no element found\" on anything ...\n",
       "4     [<!-- CLA-CHECK:130 -->\\n&#10060; Author of th...\n",
       "                            ...                        \n",
       "95                                 [Superseded by #20.]\n",
       "96    [Bump rails-html-sanitizer from 1.2.0 to 1.4.4...\n",
       "97    [Bump rails-html-sanitizer from 1.2.0 to 1.4.4...\n",
       "98                                 [Superseded by #23.]\n",
       "99    [Bump express from 4.17.2 to 4.17.3 in /server...\n",
       "Name: post_list, Length: 100, dtype: object"
      ]
     },
     "execution_count": 5,
     "metadata": {},
     "output_type": "execute_result"
    }
   ],
   "source": [
    "# see the first 100 conversations\n",
    "df[\"post_list\"][:100]"
   ]
  },
  {
   "cell_type": "code",
   "execution_count": 6,
   "id": "a1570c5f",
   "metadata": {},
   "outputs": [
    {
     "name": "stdout",
     "output_type": "stream",
     "text": [
      "       conversation_id                                               post  \\\n",
      "0                    0  Update dependency @testing-library/user-event ...   \n",
      "1                    1                 I would like to work on this issue   \n",
      "2                    1                                         go for it!   \n",
      "3                    1  Looks like there is a potential PoC and Docker...   \n",
      "4                    1  After looking into this further I think it wil...   \n",
      "...                ...                                                ...   \n",
      "29924            19995  Bump mongoose from 5.9.25 to 5.13.15. Bumps [m...   \n",
      "29925            19996  Bump puppeteer from 19.9.0 to 19.10.0. Bumps [...   \n",
      "29926            19997  3Dモデル用シェーダー作成. 3Dモデルで使用するシェーダーを作成する。\\r\\n\\r\\n要件...   \n",
      "29927            19998  ### <span aria-hidden=\"true\">👷</span> Deploy P...   \n",
      "29928            19999                                 Feature/with front   \n",
      "\n",
      "       post_working_language  post_embedded_language  \\\n",
      "0                        NaN                     NaN   \n",
      "1                        NaN                     NaN   \n",
      "2                        NaN                     NaN   \n",
      "3                        NaN                     NaN   \n",
      "4                        NaN                     NaN   \n",
      "...                      ...                     ...   \n",
      "29924                    NaN                     NaN   \n",
      "29925                    NaN                     NaN   \n",
      "29926                    NaN                     NaN   \n",
      "29927                    NaN                     NaN   \n",
      "29928                    NaN                     NaN   \n",
      "\n",
      "       post_working_language_actual  post_embedded_language_actual  \n",
      "0                               NaN                            NaN  \n",
      "1                               NaN                            NaN  \n",
      "2                               NaN                            NaN  \n",
      "3                               NaN                            NaN  \n",
      "4                               NaN                            NaN  \n",
      "...                             ...                            ...  \n",
      "29924                           NaN                            NaN  \n",
      "29925                           NaN                            NaN  \n",
      "29926                           NaN                            NaN  \n",
      "29927                           NaN                            NaN  \n",
      "29928                           NaN                            NaN  \n",
      "\n",
      "[29929 rows x 6 columns]\n"
     ]
    }
   ],
   "source": [
    "df= pd.DataFrame(df)\n",
    "\n",
    "# Create a new column 'conversation_id' with unique IDs for each conversation\n",
    "df['conversation_id'] = range(len(df))\n",
    "\n",
    "# Explode the 'post_list' column into separate rows\n",
    "df = df.explode('post_list', ignore_index=True)\n",
    "\n",
    "# Rearrange the columns to have 'conversation_id' come first\n",
    "df = df[['conversation_id', 'post_list']]\n",
    "\n",
    "# Rename the 'post_list' column to 'post'\n",
    "df = df.rename(columns={'post_list': 'post'})\n",
    "\n",
    "df['post_working_language'] = np.nan\n",
    "df['post_embedded_language'] = np.nan\n",
    "df['post_working_language_actual'] = np.nan\n",
    "df['post_embedded_language_actual'] = np.nan\n",
    "\n",
    "# Display the final DataFrame\n",
    "print(df)\n",
    "\n",
    "# # Specify the path where you want to save the CSV file\n",
    "# file_path = 'conv_sample_posts.csv'\n",
    "\n",
    "# # Save the DataFrame to a CSV file\n",
    "# df.to_csv(file_path, index=False)  # Set index=False to exclude the index column\n",
    "\n",
    "# print(f'DataFrame has been saved to {file_path}')"
   ]
  }
 ],
 "metadata": {
  "kernelspec": {
   "display_name": "Python 3 (ipykernel)",
   "language": "python",
   "name": "python3"
  },
  "language_info": {
   "codemirror_mode": {
    "name": "ipython",
    "version": 3
   },
   "file_extension": ".py",
   "mimetype": "text/x-python",
   "name": "python",
   "nbconvert_exporter": "python",
   "pygments_lexer": "ipython3",
   "version": "3.11.2"
  }
 },
 "nbformat": 4,
 "nbformat_minor": 5
}
